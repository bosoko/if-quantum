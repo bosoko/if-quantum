{
 "cells": [
  {
   "cell_type": "code",
   "execution_count": 1,
   "metadata": {},
   "outputs": [
    {
     "name": "stderr",
     "output_type": "stream",
     "text": [
      "c:\\program files\\python36\\lib\\site-packages\\qiskit\\version.py:116: UserWarning: Command ['c:\\\\program files\\\\python36\\\\python.exe', '-m', 'pip', 'freeze'] exited with code 1: Traceback (most recent call last):\r\n",
      "  File \"c:\\program files\\python36\\lib\\runpy.py\", line 193, in _run_module_as_main\r\n",
      "    \"__main__\", mod_spec)\r\n",
      "  File \"c:\\program files\\python36\\lib\\runpy.py\", line 85, in _run_code\r\n",
      "    exec(code, run_globals)\r\n",
      "  File \"c:\\program files\\python36\\lib\\site-packages\\pip\\__main__.py\", line 16, in <module>\r\n",
      "    from pip._internal import main as _main  # isort:skip # noqa\r\n",
      "  File \"c:\\program files\\python36\\lib\\site-packages\\pip\\_internal\\__init__.py\", line 4, in <module>\r\n",
      "    import locale\r\n",
      "  File \"c:\\program files\\python36\\lib\\locale.py\", line 16, in <module>\r\n",
      "    import re\r\n",
      "  File \"c:\\program files\\python36\\lib\\re.py\", line 142, in <module>\r\n",
      "    class RegexFlag(enum.IntFlag):\r\n",
      "AttributeError: module 'enum' has no attribute 'IntFlag'\n",
      "  warnings.warn(str(exc))\n"
     ]
    }
   ],
   "source": [
    "import numpy as np\n",
    "import copy\n",
    "import matplotlib.pyplot as plt\n",
    "\n",
    "from qiskit import QuantumRegister, ClassicalRegister\n",
    "from qiskit import QuantumCircuit, Aer, IBMQ, execute\n",
    "from qiskit.providers.aer import noise\n",
    "from qiskit.providers.aer.noise import NoiseModel\n",
    "from qiskit.tools.visualization import *\n",
    "from qiskit.tools.qi.qi import partial_trace, concurrence\n",
    "\n",
    "from qiskit.ignis.mitigation.measurement import complete_meas_cal, CompleteMeasFitter, MeasurementFilter\n",
    "from qiskit.quantum_info import state_fidelity\n",
    "\n",
    "from qiskit.tools.monitor import job_monitor, backend_monitor, backend_overview"
   ]
  },
  {
   "cell_type": "code",
   "execution_count": 2,
   "metadata": {},
   "outputs": [],
   "source": [
    "def local_measurement_circuits(input_circuit, qubit_list):\n",
    "    \n",
    "    ordered_qubit_list = sorted(qubit_list)\n",
    "    \n",
    "    cr = ClassicalRegister(len(qubit_list))\n",
    "    qr = input_circuit.qregs[0]\n",
    "    X = copy.deepcopy(input_circuit)\n",
    "    Y = copy.deepcopy(input_circuit)\n",
    "    Z = copy.deepcopy(input_circuit)\n",
    "    \n",
    "    X.add_register(cr)\n",
    "    Y.add_register(cr)\n",
    "    Z.add_register(cr)\n",
    "    \n",
    "    for bit_index in range(len(ordered_qubit_list)):\n",
    "        \n",
    "        qubit_index = ordered_qubit_list[bit_index]\n",
    "        \n",
    "        X.h(qr[qubit_index])\n",
    "        Y.sdg(qr[qubit_index])\n",
    "        Y.h(qr[qubit_index])\n",
    "        \n",
    "        X.measure(qr[qubit_index], cr[bit_index])\n",
    "        Y.measure(qr[qubit_index], cr[bit_index])\n",
    "        Z.measure(qr[qubit_index], cr[bit_index])\n",
    "    \n",
    "    return [X, Y, Z]"
   ]
  },
  {
   "cell_type": "code",
   "execution_count": 3,
   "metadata": {},
   "outputs": [],
   "source": [
    "import numpy as np\n",
    "\n",
    "def W_minimizer(list_of_observables):\n",
    "    \"\"\"\n",
    "    W_minimizer accepts a list/array of five observables and returns the minimum of a general\n",
    "    W-function from arXiv:1901.08102v2, appendix A. \n",
    "    \"\"\"\n",
    "    observables = np.array(list_of_observables, dtype=np.float32)\n",
    "    \n",
    "    ## check if the input is correct.\n",
    "    assert len(list_of_observables)==5, \"List must contain 5 observables\"\n",
    "    for obs in observables:\n",
    "        assert -1 <= obs <= 1, \"Observable not in [-1,1]\"\n",
    "        \n",
    "    ## assign constants \n",
    "    # Form of W-function:\n",
    "    # W(a) = 1/4 (1 + b + (2a^2-1)*c + (2a^2-1)*d + 2*a*Sqrt(1-a^2)*(e+f))\n",
    "    \n",
    "    b, c, d, e, f = [obs for obs in observables]\n",
    "    \n",
    "    ## W-function:\n",
    "    w_a = lambda a: (1. + b + (c + d) * (2 * a**2 - 1) + (e + f) * (2 * a * np.sqrt(1 - a**2))) / 4.\n",
    "    #v_a = lambda a: (1.-b**2 + (1.-c**2 + 1.-d**2) * (2 * a**2 - 1)**2 + (1.-e**2 + 1.-f**2) * (2 * a * np.sqrt(1 - a**2))**2) / 4.\n",
    "    \n",
    "    ## minimum of W(a)-function w.r.t. \"a\" (from Mathematica)\n",
    "    w_min = lambda b, c, d, e, f: (1+b-np.sqrt((c+d)**2 + (e+f)**2)) / 4.\n",
    "    \n",
    "    ## argmin_a of w_min: (from Mathematica) \n",
    "    # defining auxillary constant \n",
    "    k = (c+d)**2 + (e+f)**2\n",
    "    \n",
    "    if k == 0:\n",
    "        a_min = 0\n",
    "    else:\n",
    "\n",
    "        a_min_root = np.sqrt((k - c * np.sqrt(k) - d * np.sqrt(k)) / (2 * k)) ## abs value of the argmin of the Minimize function\n",
    "        a_mins = [a_min_root, -a_min_root] ## take both since it is the absolute value of the argmin\n",
    "\n",
    "        a_min = a_mins[np.argmin([w_a(a_mins[0]),w_a(a_mins[1])])] \n",
    "        \n",
    "        if (a_min < -1) or (a_min > 1): ## check if a_min is out of boundary and print the corresponding parameters\n",
    "            print(\"Warning: a_min = \",str(a_min))\n",
    "            # print(b,c,d,e,f)\n",
    "    \n",
    "    #return \"Parameters: \", (b, c, d, e, f), \"Minimum: \", w_min(b,c,d,e,f), \"W(a_min): \", w_a(a_min), \"a_min: \", a_min\n",
    "    return w_a(a_min)#, v_a(a_min)/np.sqrt(8192)"
   ]
  },
  {
   "cell_type": "code",
   "execution_count": 4,
   "metadata": {},
   "outputs": [],
   "source": [
    "def ComputeWitnessAllPairs(result, qubit_list):\n",
    "    \n",
    "    ordered_qubit_list = sorted(qubit_list)\n",
    "    nbits = len(ordered_qubit_list)\n",
    "    \n",
    "    counts = [result.get_counts(obs) for obs in range(3)]\n",
    "    \n",
    "    single_mean = {}\n",
    "    for bit_index in range(nbits):\n",
    "        qubit_index = ordered_qubit_list[bit_index]\n",
    "        single_mean[qubit_index] = {}\n",
    "        for obs in range(3):\n",
    "            nshots = 0\n",
    "            single_mean[qubit_index][obs] = 0.0\n",
    "            for outcome in counts[obs]:\n",
    "                if outcome[nbits-1-bit_index] == '0':\n",
    "                    single_mean[qubit_index][obs] += counts[obs][outcome]\n",
    "                else:\n",
    "                    single_mean[qubit_index][obs] -= counts[obs][outcome]\n",
    "                nshots += counts[obs][outcome]\n",
    "            single_mean[qubit_index][obs] = float(single_mean[qubit_index][obs])/float(nshots)\n",
    "    #print(single_mean)\n",
    "    \n",
    "    pairwise_mean = {}\n",
    "    for bit_index_i in range(nbits-1):\n",
    "        qubit_index_i = ordered_qubit_list[bit_index_i]\n",
    "        for bit_index_j in range(bit_index_i+1, nbits):\n",
    "            qubit_index_j = ordered_qubit_list[bit_index_j]\n",
    "            pair = (qubit_index_i, qubit_index_j)\n",
    "            pairwise_mean[pair] = {}\n",
    "            for obs in range(3):\n",
    "                nshots = 0\n",
    "                pairwise_mean[pair][obs] = 0.0\n",
    "                for outcome in counts[obs]:\n",
    "                    if outcome[nbits-1-bit_index_i] == outcome[nbits-1-bit_index_j]:\n",
    "                        pairwise_mean[pair][obs] += counts[obs][outcome]\n",
    "                    else:\n",
    "                        pairwise_mean[pair][obs] -= counts[obs][outcome]\n",
    "                    nshots += counts[obs][outcome]\n",
    "                pairwise_mean[pair][obs] = float(pairwise_mean[pair][obs])/float(nshots)\n",
    "    #print(pairwise_mean)\n",
    "\n",
    "\n",
    "    entanglement_witness = {}\n",
    "    for bit_index_i in range(nbits-1):\n",
    "        qubit_index_i = ordered_qubit_list[bit_index_i]\n",
    "        for bit_index_j in range(bit_index_i+1, nbits):\n",
    "            qubit_index_j = ordered_qubit_list[bit_index_j]\n",
    "            pair = (qubit_index_i, qubit_index_j)\n",
    "            \n",
    "            xi = single_mean[qubit_index_i][0]\n",
    "            ix = single_mean[qubit_index_j][0]\n",
    "            yi = single_mean[qubit_index_i][1]\n",
    "            iy = single_mean[qubit_index_j][1]\n",
    "            zi = single_mean[qubit_index_i][2]\n",
    "            iz = single_mean[qubit_index_j][2]\n",
    "            \n",
    "            xx = pairwise_mean[pair][0]\n",
    "            yy = pairwise_mean[pair][1]\n",
    "            zz = pairwise_mean[pair][2]\n",
    "\n",
    "            a = np.zeros((6,5))\n",
    "            a[0] = [zz, xx, yy, zi, iz]\n",
    "            a[1] = [-zz, xx, -yy, zi, -iz]\n",
    "            a[2] = [xx, zz, yy, xi, ix]\n",
    "            a[3] = [-xx, zz, -yy, -xi, ix]\n",
    "            a[4] = [yy, zz, xx, yi, iy]\n",
    "            a[5] = [-yy, zz, -xx, -yi, iy]\n",
    "\n",
    "            W_mins = [W_minimizer(a[i]) for i in range(6)]\n",
    "            #print(W_mins)\n",
    "            abs_min = min(W_mins)\n",
    "            entanglement_witness[pair] = (abs_min < -1.0/np.sqrt(float(nshots)), abs_min)\n",
    "    \n",
    "    return entanglement_witness"
   ]
  },
  {
   "cell_type": "code",
   "execution_count": 5,
   "metadata": {},
   "outputs": [],
   "source": [
    "def GraphState(edges):\n",
    "    \n",
    "    qlist = []\n",
    "    for edge in edges:\n",
    "        if edge[0] not in qlist:\n",
    "            qlist.append(edge[0])\n",
    "        if edge[1] not in qlist:\n",
    "            qlist.append(edge[1])\n",
    "    \n",
    "    q = QuantumRegister(len(qlist))\n",
    "    graph = QuantumCircuit(q)\n",
    "    \n",
    "    for qubit_index in qlist:\n",
    "        graph.h(q[qubit_index])\n",
    "    \n",
    "    for edge in edges:\n",
    "        graph.h(q[edge[1]])\n",
    "        graph.cx(q[edge[0]], q[edge[1]])\n",
    "        graph.h(q[edge[1]])\n",
    "\n",
    "    return graph"
   ]
  },
  {
   "cell_type": "code",
   "execution_count": 15,
   "metadata": {},
   "outputs": [],
   "source": [
    "def Darwin(n, l, t, theta):\n",
    "    \n",
    "    qr = QuantumRegister(2*n+1)\n",
    "    darwin = QuantumCircuit(qr)\n",
    "    \n",
    "    p = 1.0 - np.exp(-l*t)\n",
    "    phase = 2.0*np.arcsin(np.sqrt(p))\n",
    "    print(p,phase, np.sin(phase/2.0)**2)\n",
    "    \n",
    "    darwin.h(qr[2*n])\n",
    "    for emitter in range(0,2*n,2):\n",
    "        darwin.ry(phase, qr[emitter])\n",
    "        darwin.cx(qr[emitter], qr[emitter+1])\n",
    "        darwin.x(qr[emitter+1])\n",
    "        darwin.h(qr[emitter+1])\n",
    "        darwin.rz(-theta/2.0, qr[2*n])\n",
    "        darwin.rz(-theta/2.0, qr[emitter+1])\n",
    "        darwin.crz(theta/1.0, qr[2*n], qr[emitter+1])\n",
    "        darwin.crz(theta/1.0, qr[emitter+1], qr[2*n])\n",
    "        darwin.h(qr[emitter+1])\n",
    "    darwin.h(qr[2*n])\n",
    "    \n",
    "    return darwin"
   ]
  },
  {
   "cell_type": "code",
   "execution_count": 16,
   "metadata": {},
   "outputs": [
    {
     "name": "stdout",
     "output_type": "stream",
     "text": [
      "0.9999546000702375 3.1281166576221096 0.9999546000702376\n"
     ]
    },
    {
     "data": {
      "image/png": "[encoded data removed]",
      "text/plain": [
       "<Figure size 662.2x198.66 with 1 Axes>"
      ]
     },
     "execution_count": 16,
     "metadata": {},
     "output_type": "execute_result"
    }
   ],
   "source": [
    "#q = QuantumRegister(5)\n",
    "#test_circ = QuantumCircuit(q)\n",
    "#test_circ.x(q[0])\n",
    "#test_circ.x(q[0])\n",
    "#test_circ.h(q[0])\n",
    "#test_circ.ry(0.05,q[0])\n",
    "#test_circ.h(q[0])\n",
    "#test_circ.s(q[0])\n",
    "#test_circ.cx(q[0],q[1])\n",
    "\n",
    "#test_circ = GraphState([(0,1), (1,2), (3,4), (4,5), (1,4)])\n",
    "#test_circ = GraphState([(0,1), (1,2), (0,2)])\n",
    "#test_circ = GraphState([(0,1)])\n",
    "#test_circ.h(test_circ.qregs[0][2])\n",
    "\n",
    "test_circ = Darwin(1, 10., 1.0, 1.0*np.pi/1.30)\n",
    "qlist = list(range(len(test_circ.qregs[0])))\n",
    "#lmc = local_measurement_circuits(test_circ, qlist)\n",
    "\n",
    "test_circ.draw(output = 'mpl')\n"
   ]
  },
  {
   "cell_type": "code",
   "execution_count": 17,
   "metadata": {},
   "outputs": [
    {
     "data": {
      "text/plain": [
       "{(0, 1): (True, 0.09943009484123723),\n",
       " (0, 2): (True, 0.056259221960011055),\n",
       " (1, 2): (True, 0.8941248102156978)}"
      ]
     },
     "execution_count": 17,
     "metadata": {},
     "output_type": "execute_result"
    }
   ],
   "source": [
    "job_state_vec = execute(test_circ, Aer.get_backend('statevector_simulator'))\n",
    "state_vec = job_state_vec.result().get_statevector()\n",
    "\n",
    "conc = {}\n",
    "n = len(qlist)\n",
    "for i in range(n-1):\n",
    "    for j in range(i+1, n):\n",
    "        qpt = qlist[:]\n",
    "        qpt.remove(i)\n",
    "        qpt.remove(j)\n",
    "        part = partial_trace(state_vec, qpt)\n",
    "        conc[(i,j)] = (concurrence(part) > 1e-5, concurrence(part))\n",
    "conc"
   ]
  },
  {
   "cell_type": "code",
   "execution_count": null,
   "metadata": {},
   "outputs": [],
   "source": [
    "nshots = 8192\n",
    "backend = Aer.get_backend('qasm_simulator')\n",
    "job = execute(lmc, backend=backend, shots = nshots)\n",
    "job_result = job.result()\n",
    "ComputeWitnessAllPairs(job_result, qlist)"
   ]
  },
  {
   "cell_type": "code",
   "execution_count": null,
   "metadata": {},
   "outputs": [],
   "source": [
    "print(job_result.get_counts(2))"
   ]
  },
  {
   "cell_type": "code",
   "execution_count": null,
   "metadata": {},
   "outputs": [],
   "source": [
    "def W_a(av, a):\n",
    "    \n",
    "    return 0.25*(1.0 + av[0] + (av[1] + av[2])*(2.0*a**2-1.0) + (av[3]+av[4])*(2.0*a*np.sqrt(1.0-a**2)))\n",
    "\n",
    "ix, xi = 0.,0.\n",
    "iy, yi = 0.,0.\n",
    "iz, zi = 0.,0.\n",
    "xx = -1.\n",
    "yy = -1.\n",
    "zz = -1.\n",
    "\n",
    "al = np.zeros((6,5))\n",
    "al[0] = [zz, xx, yy, zi, iz]\n",
    "al[1] = [-zz, xx, -yy, zi, -iz]\n",
    "al[2] = [xx, zz, yy, xi, ix]\n",
    "al[3] = [-xx, zz, -yy, -xi, ix]\n",
    "al[4] = [yy, zz, xx, yi, iy]\n",
    "al[5] = [-yy, zz, -xx, -yi, iy]\n",
    "\n",
    "a_vals = np.linspace(-1.0, 1.0, 100)\n",
    "for i in range(6):\n",
    "    y_vals = W_a(al[i], a_vals)\n",
    "    plt.plot(a_vals, y_vals, label = str(i))\n",
    "plt.legend()"
   ]
  },
  {
   "cell_type": "code",
   "execution_count": null,
   "metadata": {},
   "outputs": [],
   "source": [
    "from qiskit.tools.qi.qi import concurrence"
   ]
  },
  {
   "cell_type": "code",
   "execution_count": null,
   "metadata": {},
   "outputs": [],
   "source": [
    "concurrence(np.array([1.,0.,0.,-1.]/np.sqrt(2.0)))"
   ]
  },
  {
   "cell_type": "code",
   "execution_count": null,
   "metadata": {},
   "outputs": [],
   "source": [
    "N = 1000\n",
    "nlayers = int(np.ceil(np.log(float(N))/np.log(3.0)))\n",
    "print(nlayers)\n",
    "pairs = {}\n",
    "obs = [\"X\", \"Y\", \"Z\"]\n",
    "for one in range(3):\n",
    "    for two in range(2):\n",
    "        obs_copy = obs[:]\n",
    "        sequence = [obs_copy[one]]\n",
    "        obs_copy.remove(obs_copy[one])\n",
    "        sequence.append(obs_copy[two])\n",
    "        obs_copy.remove(obs_copy[two])\n",
    "        sequence.append(obs_copy[0])\n",
    "        \n",
    "        for layout in range(nlayers):\n",
    "            c = {}\n",
    "            for qubit in range(N):\n",
    "                q_index = int(float(qubit)/float(3**layout))%3\n",
    "                c[qubit] = sequence[q_index]\n",
    "        \n",
    "            for i in range(N-1):\n",
    "                q_index_i = int(float(i)/float(3**layout))%3\n",
    "                for j in range(i+1,N):\n",
    "                    q_index_j = int(float(j)/float(3**layout))%3\n",
    "                    pair = (i,j)\n",
    "                    if pair not in pairs:\n",
    "                        pairs[pair] = []\n",
    "                    if q_index_i != q_index_j and (c[i],c[j]) not in pairs[pair]:\n",
    "                        pairs[pair].append((c[i],c[j]))\n",
    "\n"
   ]
  },
  {
   "cell_type": "code",
   "execution_count": null,
   "metadata": {},
   "outputs": [],
   "source": [
    "pos = [('X','Y'),('X','Z'),('Y','X'),('Y','Z'),('Z','X'),('Z','Y')]\n",
    "for pair in pairs:\n",
    "    if len(pairs[pair]) != 6:\n",
    "        print(\"Length error\", pair)\n",
    "    pos_copy = pos[:]\n",
    "    for el in pairs[pair]:\n",
    "        pos_copy.remove(el)\n",
    "    if len(pos_copy) > 0:\n",
    "        print(\"Oops\", pair)\n",
    "    "
   ]
  },
  {
   "cell_type": "code",
   "execution_count": null,
   "metadata": {},
   "outputs": [],
   "source": [
    "pairs"
   ]
  },
  {
   "cell_type": "code",
   "execution_count": 2,
   "metadata": {},
   "outputs": [],
   "source": [
    "def pairwise_state_tomography_circuits(input_circuit, qubit_list):\n",
    "    \n",
    "    ### Initialisation stuff\n",
    "    ordered_qubit_list = sorted(qubit_list)\n",
    "    N = len(qubit_list)\n",
    "    \n",
    "    cr = ClassicalRegister(len(qubit_list))\n",
    "    qr = input_circuit.qregs[0]\n",
    "    \n",
    "    \n",
    "    ### Uniform measurement settings\n",
    "    X = copy.deepcopy(input_circuit)\n",
    "    Y = copy.deepcopy(input_circuit)\n",
    "    Z = copy.deepcopy(input_circuit)\n",
    "    \n",
    "    X.add_register(cr)\n",
    "    Y.add_register(cr)\n",
    "    Z.add_register(cr)\n",
    "    \n",
    "    X.name = ('X',)*N\n",
    "    Y.name = ('Y',)*N\n",
    "    Z.name = ('Z',)*N\n",
    "    \n",
    "    for bit_index in range(len(ordered_qubit_list)):\n",
    "        \n",
    "        qubit_index = ordered_qubit_list[bit_index]\n",
    "        \n",
    "        X.h(qr[qubit_index])\n",
    "        Y.sdg(qr[qubit_index])\n",
    "        Y.h(qr[qubit_index])\n",
    "        \n",
    "        X.measure(qr[qubit_index], cr[bit_index])\n",
    "        Y.measure(qr[qubit_index], cr[bit_index])\n",
    "        Z.measure(qr[qubit_index], cr[bit_index])\n",
    "    \n",
    "    output_circuit_list = [X, Y, Z]\n",
    "    \n",
    "    \n",
    "    ### Heterogeneous measurement settings\n",
    "    # Generation of six possible sequences\n",
    "    sequences = []\n",
    "    meas_bases = ['X', 'Y', 'Z']\n",
    "    for i in range(3):\n",
    "        for j in range(2):\n",
    "            meas_bases_copy = meas_bases[:]\n",
    "            sequence = [meas_bases_copy[i]]\n",
    "            meas_bases_copy.remove(meas_bases_copy[i])\n",
    "            sequence.append(meas_bases_copy[j])\n",
    "            meas_bases_copy.remove(meas_bases_copy[j])\n",
    "            sequence.append(meas_bases_copy[0])\n",
    "            sequences.append(sequence)\n",
    "    \n",
    "    # Qubit colouring\n",
    "    nlayers = int(np.ceil(np.log(float(N))/np.log(3.0)))\n",
    "    pairs = {}\n",
    "    for layout in range(nlayers):\n",
    "        for sequence in sequences:\n",
    "            meas_layout = copy.deepcopy(input_circuit)\n",
    "            meas_layout.add_register(cr)\n",
    "            meas_layout.name = ()\n",
    "            for bit_index in range(N):\n",
    "                qubit_index = ordered_qubit_list[bit_index]\n",
    "                local_basis = sequence[int(float(bit_index)/float(3**layout))%3]\n",
    "                if local_basis == 'Y':\n",
    "                    meas_layout.sdg(qr[qubit_index])\n",
    "                if local_basis != 'Z':\n",
    "                    meas_layout.h(qr[qubit_index])\n",
    "                meas_layout.measure(qr[qubit_index], cr[bit_index])\n",
    "                meas_layout.name += (local_basis,)\n",
    "            output_circuit_list.append(meas_layout)\n",
    "    \n",
    "    return output_circuit_list"
   ]
  },
  {
   "cell_type": "code",
   "execution_count": 5,
   "metadata": {},
   "outputs": [],
   "source": [
    "q = QuantumRegister(5)\n",
    "test_circ = QuantumCircuit(q)\n",
    "qlist = list(range(5))\n",
    "\n",
    "meas_circs = pairwise_state_tomography_circuits(test_circ, qlist)"
   ]
  },
  {
   "cell_type": "code",
   "execution_count": 6,
   "metadata": {},
   "outputs": [
    {
     "name": "stdout",
     "output_type": "stream",
     "text": [
      "0 ('X', 'X', 'X', 'X', 'X')\n",
      "########################################\n",
      "1 ('Y', 'Y', 'Y', 'Y', 'Y')\n",
      "########################################\n",
      "2 ('Z', 'Z', 'Z', 'Z', 'Z')\n",
      "########################################\n",
      "3 ('X', 'Y', 'Z', 'X', 'Y')\n",
      "########################################\n",
      "4 ('X', 'Z', 'Y', 'X', 'Z')\n",
      "########################################\n",
      "5 ('Y', 'X', 'Z', 'Y', 'X')\n",
      "########################################\n",
      "6 ('Y', 'Z', 'X', 'Y', 'Z')\n",
      "########################################\n",
      "7 ('Z', 'X', 'Y', 'Z', 'X')\n",
      "########################################\n",
      "8 ('Z', 'Y', 'X', 'Z', 'Y')\n",
      "########################################\n",
      "9 ('X', 'X', 'X', 'Y', 'Y')\n",
      "########################################\n",
      "10 ('X', 'X', 'X', 'Z', 'Z')\n",
      "########################################\n",
      "11 ('Y', 'Y', 'Y', 'X', 'X')\n",
      "########################################\n",
      "12 ('Y', 'Y', 'Y', 'Z', 'Z')\n",
      "########################################\n",
      "13 ('Z', 'Z', 'Z', 'X', 'X')\n",
      "########################################\n",
      "14 ('Z', 'Z', 'Z', 'Y', 'Y')\n",
      "########################################\n"
     ]
    }
   ],
   "source": [
    "for i, c in enumerate(meas_circs):\n",
    "    print(i,c.name)\n",
    "    print(\"#\"*40)"
   ]
  },
  {
   "cell_type": "code",
   "execution_count": 7,
   "metadata": {},
   "outputs": [
    {
     "data": {
      "image/png": "[encoded data removed]",
      "text/plain": [
       "<Figure size 588.756x385.28 with 1 Axes>"
      ]
     },
     "execution_count": 7,
     "metadata": {},
     "output_type": "execute_result"
    }
   ],
   "source": [
    "meas_circs[12].draw(output='mpl')"
   ]
  },
  {
   "cell_type": "code",
   "execution_count": 8,
   "metadata": {},
   "outputs": [
    {
     "data": {
      "text/plain": [
       "5"
      ]
     },
     "execution_count": 8,
     "metadata": {},
     "output_type": "execute_result"
    }
   ],
   "source": [
    "meas_circs[12].n_qubits"
   ]
  },
  {
   "cell_type": "code",
   "execution_count": null,
   "metadata": {},
   "outputs": [],
   "source": []
  }
 ],
 "metadata": {
  "kernelspec": {
   "display_name": "Python 3",
   "language": "python",
   "name": "python3"
  },
  "language_info": {
   "codemirror_mode": {
    "name": "ipython",
    "version": 3
   },
   "file_extension": ".py",
   "mimetype": "text/x-python",
   "name": "python",
   "nbconvert_exporter": "python",
   "pygments_lexer": "ipython3",
   "version": "3.6.5"
  }
 },
 "nbformat": 4,
 "nbformat_minor": 2
}
